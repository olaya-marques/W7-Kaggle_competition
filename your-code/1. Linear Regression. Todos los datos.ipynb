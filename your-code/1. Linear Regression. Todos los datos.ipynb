{
 "cells": [
  {
   "cell_type": "markdown",
   "id": "ce9c3d97",
   "metadata": {},
   "source": [
    "# 1. Linear Regression"
   ]
  },
  {
   "cell_type": "markdown",
   "id": "7b42ad56",
   "metadata": {},
   "source": [
    "## Importación de librerias"
   ]
  },
  {
   "cell_type": "code",
   "execution_count": 1,
   "id": "2f7d8757",
   "metadata": {},
   "outputs": [],
   "source": [
    "import numpy as np\n",
    "import pandas as pd\n",
    "import seaborn as sns\n",
    "import matplotlib.pyplot as plt\n",
    "from sklearn.model_selection import train_test_split\n",
    "from sklearn.metrics import mean_squared_error\n",
    "from sklearn.linear_model import LinearRegression"
   ]
  },
  {
   "cell_type": "markdown",
   "id": "7d390c3b",
   "metadata": {},
   "source": [
    "## Importación de datos"
   ]
  },
  {
   "cell_type": "code",
   "execution_count": 2,
   "id": "2049b899",
   "metadata": {},
   "outputs": [],
   "source": [
    "data_train = pd.read_csv(\"Data/train.csv\")\n",
    "data_test = pd.read_csv(\"Data/test.csv\")"
   ]
  },
  {
   "cell_type": "markdown",
   "id": "c76c5491",
   "metadata": {},
   "source": [
    "## Transformo todos los datos categóricos"
   ]
  },
  {
   "cell_type": "code",
   "execution_count": 3,
   "id": "145d18f0",
   "metadata": {},
   "outputs": [],
   "source": [
    "train = pd.get_dummies(data_train)\n",
    "test = pd.get_dummies(data_test)"
   ]
  },
  {
   "cell_type": "code",
   "execution_count": 4,
   "id": "c02aef8a",
   "metadata": {},
   "outputs": [
    {
     "data": {
      "text/html": [
       "<div>\n",
       "<style scoped>\n",
       "    .dataframe tbody tr th:only-of-type {\n",
       "        vertical-align: middle;\n",
       "    }\n",
       "\n",
       "    .dataframe tbody tr th {\n",
       "        vertical-align: top;\n",
       "    }\n",
       "\n",
       "    .dataframe thead th {\n",
       "        text-align: right;\n",
       "    }\n",
       "</style>\n",
       "<table border=\"1\" class=\"dataframe\">\n",
       "  <thead>\n",
       "    <tr style=\"text-align: right;\">\n",
       "      <th></th>\n",
       "      <th>id</th>\n",
       "      <th>carat</th>\n",
       "      <th>depth</th>\n",
       "      <th>table</th>\n",
       "      <th>x</th>\n",
       "      <th>y</th>\n",
       "      <th>z</th>\n",
       "      <th>price</th>\n",
       "      <th>cut_Fair</th>\n",
       "      <th>cut_Good</th>\n",
       "      <th>...</th>\n",
       "      <th>color_I</th>\n",
       "      <th>color_J</th>\n",
       "      <th>clarity_I1</th>\n",
       "      <th>clarity_IF</th>\n",
       "      <th>clarity_SI1</th>\n",
       "      <th>clarity_SI2</th>\n",
       "      <th>clarity_VS1</th>\n",
       "      <th>clarity_VS2</th>\n",
       "      <th>clarity_VVS1</th>\n",
       "      <th>clarity_VVS2</th>\n",
       "    </tr>\n",
       "  </thead>\n",
       "  <tbody>\n",
       "    <tr>\n",
       "      <th>17775</th>\n",
       "      <td>17775</td>\n",
       "      <td>0.33</td>\n",
       "      <td>60.7</td>\n",
       "      <td>58.0</td>\n",
       "      <td>4.46</td>\n",
       "      <td>4.50</td>\n",
       "      <td>2.72</td>\n",
       "      <td>666.06</td>\n",
       "      <td>0</td>\n",
       "      <td>0</td>\n",
       "      <td>...</td>\n",
       "      <td>0</td>\n",
       "      <td>0</td>\n",
       "      <td>0</td>\n",
       "      <td>0</td>\n",
       "      <td>0</td>\n",
       "      <td>0</td>\n",
       "      <td>0</td>\n",
       "      <td>1</td>\n",
       "      <td>0</td>\n",
       "      <td>0</td>\n",
       "    </tr>\n",
       "    <tr>\n",
       "      <th>13506</th>\n",
       "      <td>13506</td>\n",
       "      <td>1.01</td>\n",
       "      <td>61.8</td>\n",
       "      <td>59.0</td>\n",
       "      <td>6.42</td>\n",
       "      <td>6.39</td>\n",
       "      <td>3.96</td>\n",
       "      <td>918.10</td>\n",
       "      <td>0</td>\n",
       "      <td>0</td>\n",
       "      <td>...</td>\n",
       "      <td>0</td>\n",
       "      <td>0</td>\n",
       "      <td>0</td>\n",
       "      <td>0</td>\n",
       "      <td>0</td>\n",
       "      <td>0</td>\n",
       "      <td>0</td>\n",
       "      <td>0</td>\n",
       "      <td>0</td>\n",
       "      <td>1</td>\n",
       "    </tr>\n",
       "    <tr>\n",
       "      <th>4325</th>\n",
       "      <td>4325</td>\n",
       "      <td>2.22</td>\n",
       "      <td>59.2</td>\n",
       "      <td>59.0</td>\n",
       "      <td>8.54</td>\n",
       "      <td>8.46</td>\n",
       "      <td>5.03</td>\n",
       "      <td>951.44</td>\n",
       "      <td>0</td>\n",
       "      <td>0</td>\n",
       "      <td>...</td>\n",
       "      <td>0</td>\n",
       "      <td>0</td>\n",
       "      <td>0</td>\n",
       "      <td>0</td>\n",
       "      <td>0</td>\n",
       "      <td>1</td>\n",
       "      <td>0</td>\n",
       "      <td>0</td>\n",
       "      <td>0</td>\n",
       "      <td>0</td>\n",
       "    </tr>\n",
       "    <tr>\n",
       "      <th>37870</th>\n",
       "      <td>37870</td>\n",
       "      <td>0.36</td>\n",
       "      <td>62.5</td>\n",
       "      <td>56.0</td>\n",
       "      <td>4.55</td>\n",
       "      <td>4.57</td>\n",
       "      <td>2.85</td>\n",
       "      <td>649.68</td>\n",
       "      <td>0</td>\n",
       "      <td>0</td>\n",
       "      <td>...</td>\n",
       "      <td>0</td>\n",
       "      <td>0</td>\n",
       "      <td>0</td>\n",
       "      <td>0</td>\n",
       "      <td>1</td>\n",
       "      <td>0</td>\n",
       "      <td>0</td>\n",
       "      <td>0</td>\n",
       "      <td>0</td>\n",
       "      <td>0</td>\n",
       "    </tr>\n",
       "    <tr>\n",
       "      <th>21321</th>\n",
       "      <td>21321</td>\n",
       "      <td>1.01</td>\n",
       "      <td>60.4</td>\n",
       "      <td>58.0</td>\n",
       "      <td>6.49</td>\n",
       "      <td>6.52</td>\n",
       "      <td>3.93</td>\n",
       "      <td>897.46</td>\n",
       "      <td>0</td>\n",
       "      <td>0</td>\n",
       "      <td>...</td>\n",
       "      <td>0</td>\n",
       "      <td>0</td>\n",
       "      <td>0</td>\n",
       "      <td>0</td>\n",
       "      <td>0</td>\n",
       "      <td>0</td>\n",
       "      <td>0</td>\n",
       "      <td>1</td>\n",
       "      <td>0</td>\n",
       "      <td>0</td>\n",
       "    </tr>\n",
       "  </tbody>\n",
       "</table>\n",
       "<p>5 rows × 28 columns</p>\n",
       "</div>"
      ],
      "text/plain": [
       "          id  carat  depth  table     x     y     z   price  cut_Fair  \\\n",
       "17775  17775   0.33   60.7   58.0  4.46  4.50  2.72  666.06         0   \n",
       "13506  13506   1.01   61.8   59.0  6.42  6.39  3.96  918.10         0   \n",
       "4325    4325   2.22   59.2   59.0  8.54  8.46  5.03  951.44         0   \n",
       "37870  37870   0.36   62.5   56.0  4.55  4.57  2.85  649.68         0   \n",
       "21321  21321   1.01   60.4   58.0  6.49  6.52  3.93  897.46         0   \n",
       "\n",
       "       cut_Good  ...  color_I  color_J  clarity_I1  clarity_IF  clarity_SI1  \\\n",
       "17775         0  ...        0        0           0           0            0   \n",
       "13506         0  ...        0        0           0           0            0   \n",
       "4325          0  ...        0        0           0           0            0   \n",
       "37870         0  ...        0        0           0           0            1   \n",
       "21321         0  ...        0        0           0           0            0   \n",
       "\n",
       "       clarity_SI2  clarity_VS1  clarity_VS2  clarity_VVS1  clarity_VVS2  \n",
       "17775            0            0            1             0             0  \n",
       "13506            0            0            0             0             1  \n",
       "4325             1            0            0             0             0  \n",
       "37870            0            0            0             0             0  \n",
       "21321            0            0            1             0             0  \n",
       "\n",
       "[5 rows x 28 columns]"
      ]
     },
     "execution_count": 4,
     "metadata": {},
     "output_type": "execute_result"
    }
   ],
   "source": [
    "train.sample(5, random_state=42)"
   ]
  },
  {
   "cell_type": "code",
   "execution_count": 5,
   "id": "46f0acf8",
   "metadata": {},
   "outputs": [],
   "source": [
    "#definimos x e y\n",
    "X=train.drop(\"price\", axis=1)\n",
    "\n",
    "y=train.price"
   ]
  },
  {
   "cell_type": "code",
   "execution_count": 6,
   "id": "61f4a57e",
   "metadata": {},
   "outputs": [],
   "source": [
    "X_train, X_test, y_train, y_test = train_test_split(X,y, test_size=0.2, random_state=42)"
   ]
  },
  {
   "cell_type": "markdown",
   "id": "eb2187d6",
   "metadata": {},
   "source": [
    "## Hacemos la Linear Regression"
   ]
  },
  {
   "cell_type": "code",
   "execution_count": 7,
   "id": "9a139f4c",
   "metadata": {},
   "outputs": [
    {
     "data": {
      "text/plain": [
       "LinearRegression()"
      ]
     },
     "execution_count": 7,
     "metadata": {},
     "output_type": "execute_result"
    }
   ],
   "source": [
    "lr = LinearRegression()\n",
    "lr.fit(X_train, y_train) #le pasamos los datos entrenados"
   ]
  },
  {
   "cell_type": "code",
   "execution_count": 8,
   "id": "61eaa492",
   "metadata": {},
   "outputs": [],
   "source": [
    "y_predict = lr.predict(X_test) #testeo\n",
    "y_predict_train = lr.predict(X_train) #entrenamiento"
   ]
  },
  {
   "cell_type": "code",
   "execution_count": 9,
   "id": "84042b04",
   "metadata": {},
   "outputs": [],
   "source": [
    "#calculamos el mse"
   ]
  },
  {
   "cell_type": "code",
   "execution_count": 10,
   "id": "90993569",
   "metadata": {},
   "outputs": [
    {
     "data": {
      "text/plain": [
       "('MSE Test', 269.8326559103808)"
      ]
     },
     "execution_count": 10,
     "metadata": {},
     "output_type": "execute_result"
    }
   ],
   "source": [
    "\"MSE Test\", mean_squared_error(y_predict, y_test)"
   ]
  },
  {
   "cell_type": "code",
   "execution_count": 11,
   "id": "925f4b68",
   "metadata": {},
   "outputs": [
    {
     "data": {
      "text/plain": [
       "('MSE Test', 305.7950996421109)"
      ]
     },
     "execution_count": 11,
     "metadata": {},
     "output_type": "execute_result"
    }
   ],
   "source": [
    "\"MSE Test\", mean_squared_error(y_predict_train, y_train)"
   ]
  },
  {
   "cell_type": "markdown",
   "id": "fcb56ed1",
   "metadata": {},
   "source": [
    "## Test"
   ]
  },
  {
   "cell_type": "code",
   "execution_count": 12,
   "id": "115492b2",
   "metadata": {},
   "outputs": [
    {
     "data": {
      "text/plain": [
       "LinearRegression()"
      ]
     },
     "execution_count": 12,
     "metadata": {},
     "output_type": "execute_result"
    }
   ],
   "source": [
    "lr2 = LinearRegression()\n",
    "lr2.fit(X,y) #le pasamos los datos entrenados"
   ]
  },
  {
   "cell_type": "code",
   "execution_count": 13,
   "id": "a96e3260",
   "metadata": {},
   "outputs": [],
   "source": [
    "precio = lr2.predict(X)"
   ]
  },
  {
   "cell_type": "code",
   "execution_count": 14,
   "id": "ac83a033",
   "metadata": {},
   "outputs": [
    {
     "data": {
      "text/plain": [
       "('MSE Precio', 298.44352075882153)"
      ]
     },
     "execution_count": 14,
     "metadata": {},
     "output_type": "execute_result"
    }
   ],
   "source": [
    "\"MSE Precio\", mean_squared_error(precio, y)"
   ]
  },
  {
   "cell_type": "markdown",
   "id": "dd193cde",
   "metadata": {},
   "source": [
    "## Resultado"
   ]
  },
  {
   "cell_type": "code",
   "execution_count": 15,
   "id": "e51d388d",
   "metadata": {},
   "outputs": [],
   "source": [
    "precio = lr2.predict(test)"
   ]
  },
  {
   "cell_type": "code",
   "execution_count": 16,
   "id": "536da12d",
   "metadata": {},
   "outputs": [],
   "source": [
    "resultado = pd.DataFrame()"
   ]
  },
  {
   "cell_type": "code",
   "execution_count": 17,
   "id": "b14e9d29",
   "metadata": {},
   "outputs": [],
   "source": [
    "resultado[\"id\"]= [i for i in range(len(y-test))]"
   ]
  },
  {
   "cell_type": "code",
   "execution_count": 18,
   "id": "fb1a5e0f",
   "metadata": {},
   "outputs": [],
   "source": [
    "resultado[\"price\"]= precio"
   ]
  },
  {
   "cell_type": "code",
   "execution_count": 19,
   "id": "8e266a5c",
   "metadata": {},
   "outputs": [
    {
     "data": {
      "text/html": [
       "<div>\n",
       "<style scoped>\n",
       "    .dataframe tbody tr th:only-of-type {\n",
       "        vertical-align: middle;\n",
       "    }\n",
       "\n",
       "    .dataframe tbody tr th {\n",
       "        vertical-align: top;\n",
       "    }\n",
       "\n",
       "    .dataframe thead th {\n",
       "        text-align: right;\n",
       "    }\n",
       "</style>\n",
       "<table border=\"1\" class=\"dataframe\">\n",
       "  <thead>\n",
       "    <tr style=\"text-align: right;\">\n",
       "      <th></th>\n",
       "      <th>id</th>\n",
       "      <th>price</th>\n",
       "    </tr>\n",
       "  </thead>\n",
       "  <tbody>\n",
       "    <tr>\n",
       "      <th>0</th>\n",
       "      <td>0</td>\n",
       "      <td>754.186244</td>\n",
       "    </tr>\n",
       "    <tr>\n",
       "      <th>1</th>\n",
       "      <td>1</td>\n",
       "      <td>936.103961</td>\n",
       "    </tr>\n",
       "    <tr>\n",
       "      <th>2</th>\n",
       "      <td>2</td>\n",
       "      <td>855.998439</td>\n",
       "    </tr>\n",
       "    <tr>\n",
       "      <th>3</th>\n",
       "      <td>3</td>\n",
       "      <td>806.530415</td>\n",
       "    </tr>\n",
       "    <tr>\n",
       "      <th>4</th>\n",
       "      <td>4</td>\n",
       "      <td>881.408500</td>\n",
       "    </tr>\n",
       "  </tbody>\n",
       "</table>\n",
       "</div>"
      ],
      "text/plain": [
       "   id       price\n",
       "0   0  754.186244\n",
       "1   1  936.103961\n",
       "2   2  855.998439\n",
       "3   3  806.530415\n",
       "4   4  881.408500"
      ]
     },
     "execution_count": 19,
     "metadata": {},
     "output_type": "execute_result"
    }
   ],
   "source": [
    "resultado.head()"
   ]
  },
  {
   "cell_type": "code",
   "execution_count": 20,
   "id": "54462d36",
   "metadata": {},
   "outputs": [],
   "source": [
    "resultado.to_csv(\"SUBMIT/submit1-Olaya\", index=False)"
   ]
  }
 ],
 "metadata": {
  "kernelspec": {
   "display_name": "OLAYA1",
   "language": "python",
   "name": "olaya1"
  },
  "language_info": {
   "codemirror_mode": {
    "name": "ipython",
    "version": 3
   },
   "file_extension": ".py",
   "mimetype": "text/x-python",
   "name": "python",
   "nbconvert_exporter": "python",
   "pygments_lexer": "ipython3",
   "version": "3.8.5"
  }
 },
 "nbformat": 4,
 "nbformat_minor": 5
}
